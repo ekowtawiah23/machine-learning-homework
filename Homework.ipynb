{
 "cells": [
  {
   "cell_type": "code",
   "execution_count": 33,
   "id": "d4cff54e",
   "metadata": {},
   "outputs": [],
   "source": [
    "import numpy as np"
   ]
  },
  {
   "cell_type": "code",
   "execution_count": 2,
   "metadata": {},
   "outputs": [],
   "source": [
    "import pandas as pd"
   ]
  },
  {
   "cell_type": "code",
   "execution_count": 3,
   "id": "3af893b3",
   "metadata": {},
   "outputs": [],
   "source": [
    "df = pd.read_csv('https://raw.githubusercontent.com/alexeygrigorev/datasets/master/car_fuel_efficiency.csv')"
   ]
  },
  {
   "cell_type": "code",
   "execution_count": 6,
   "id": "5042791e",
   "metadata": {},
   "outputs": [
    {
     "data": {
      "text/html": [
       "<div>\n",
       "<style scoped>\n",
       "    .dataframe tbody tr th:only-of-type {\n",
       "        vertical-align: middle;\n",
       "    }\n",
       "\n",
       "    .dataframe tbody tr th {\n",
       "        vertical-align: top;\n",
       "    }\n",
       "\n",
       "    .dataframe thead th {\n",
       "        text-align: right;\n",
       "    }\n",
       "</style>\n",
       "<table border=\"1\" class=\"dataframe\">\n",
       "  <thead>\n",
       "    <tr style=\"text-align: right;\">\n",
       "      <th></th>\n",
       "      <th>engine_displacement</th>\n",
       "      <th>num_cylinders</th>\n",
       "      <th>horsepower</th>\n",
       "      <th>vehicle_weight</th>\n",
       "      <th>acceleration</th>\n",
       "      <th>model_year</th>\n",
       "      <th>origin</th>\n",
       "      <th>fuel_type</th>\n",
       "      <th>drivetrain</th>\n",
       "      <th>num_doors</th>\n",
       "      <th>fuel_efficiency_mpg</th>\n",
       "    </tr>\n",
       "  </thead>\n",
       "  <tbody>\n",
       "    <tr>\n",
       "      <th>0</th>\n",
       "      <td>170</td>\n",
       "      <td>3.0</td>\n",
       "      <td>159.0</td>\n",
       "      <td>3413.433759</td>\n",
       "      <td>17.7</td>\n",
       "      <td>2003</td>\n",
       "      <td>Europe</td>\n",
       "      <td>Gasoline</td>\n",
       "      <td>All-wheel drive</td>\n",
       "      <td>0.0</td>\n",
       "      <td>13.231729</td>\n",
       "    </tr>\n",
       "    <tr>\n",
       "      <th>1</th>\n",
       "      <td>130</td>\n",
       "      <td>5.0</td>\n",
       "      <td>97.0</td>\n",
       "      <td>3149.664934</td>\n",
       "      <td>17.8</td>\n",
       "      <td>2007</td>\n",
       "      <td>USA</td>\n",
       "      <td>Gasoline</td>\n",
       "      <td>Front-wheel drive</td>\n",
       "      <td>0.0</td>\n",
       "      <td>13.688217</td>\n",
       "    </tr>\n",
       "    <tr>\n",
       "      <th>2</th>\n",
       "      <td>170</td>\n",
       "      <td>NaN</td>\n",
       "      <td>78.0</td>\n",
       "      <td>3079.038997</td>\n",
       "      <td>15.1</td>\n",
       "      <td>2018</td>\n",
       "      <td>Europe</td>\n",
       "      <td>Gasoline</td>\n",
       "      <td>Front-wheel drive</td>\n",
       "      <td>0.0</td>\n",
       "      <td>14.246341</td>\n",
       "    </tr>\n",
       "    <tr>\n",
       "      <th>3</th>\n",
       "      <td>220</td>\n",
       "      <td>4.0</td>\n",
       "      <td>NaN</td>\n",
       "      <td>2542.392402</td>\n",
       "      <td>20.2</td>\n",
       "      <td>2009</td>\n",
       "      <td>USA</td>\n",
       "      <td>Diesel</td>\n",
       "      <td>All-wheel drive</td>\n",
       "      <td>2.0</td>\n",
       "      <td>16.912736</td>\n",
       "    </tr>\n",
       "    <tr>\n",
       "      <th>4</th>\n",
       "      <td>210</td>\n",
       "      <td>1.0</td>\n",
       "      <td>140.0</td>\n",
       "      <td>3460.870990</td>\n",
       "      <td>14.4</td>\n",
       "      <td>2009</td>\n",
       "      <td>Europe</td>\n",
       "      <td>Gasoline</td>\n",
       "      <td>All-wheel drive</td>\n",
       "      <td>2.0</td>\n",
       "      <td>12.488369</td>\n",
       "    </tr>\n",
       "    <tr>\n",
       "      <th>...</th>\n",
       "      <td>...</td>\n",
       "      <td>...</td>\n",
       "      <td>...</td>\n",
       "      <td>...</td>\n",
       "      <td>...</td>\n",
       "      <td>...</td>\n",
       "      <td>...</td>\n",
       "      <td>...</td>\n",
       "      <td>...</td>\n",
       "      <td>...</td>\n",
       "      <td>...</td>\n",
       "    </tr>\n",
       "    <tr>\n",
       "      <th>9699</th>\n",
       "      <td>140</td>\n",
       "      <td>5.0</td>\n",
       "      <td>164.0</td>\n",
       "      <td>2981.107371</td>\n",
       "      <td>17.3</td>\n",
       "      <td>2013</td>\n",
       "      <td>Europe</td>\n",
       "      <td>Diesel</td>\n",
       "      <td>Front-wheel drive</td>\n",
       "      <td>NaN</td>\n",
       "      <td>15.101802</td>\n",
       "    </tr>\n",
       "    <tr>\n",
       "      <th>9700</th>\n",
       "      <td>180</td>\n",
       "      <td>NaN</td>\n",
       "      <td>154.0</td>\n",
       "      <td>2439.525729</td>\n",
       "      <td>15.0</td>\n",
       "      <td>2004</td>\n",
       "      <td>USA</td>\n",
       "      <td>Gasoline</td>\n",
       "      <td>All-wheel drive</td>\n",
       "      <td>0.0</td>\n",
       "      <td>17.962326</td>\n",
       "    </tr>\n",
       "    <tr>\n",
       "      <th>9701</th>\n",
       "      <td>220</td>\n",
       "      <td>2.0</td>\n",
       "      <td>138.0</td>\n",
       "      <td>2583.471318</td>\n",
       "      <td>15.1</td>\n",
       "      <td>2008</td>\n",
       "      <td>USA</td>\n",
       "      <td>Diesel</td>\n",
       "      <td>All-wheel drive</td>\n",
       "      <td>-1.0</td>\n",
       "      <td>17.186587</td>\n",
       "    </tr>\n",
       "    <tr>\n",
       "      <th>9702</th>\n",
       "      <td>230</td>\n",
       "      <td>4.0</td>\n",
       "      <td>177.0</td>\n",
       "      <td>2905.527390</td>\n",
       "      <td>19.4</td>\n",
       "      <td>2011</td>\n",
       "      <td>USA</td>\n",
       "      <td>Diesel</td>\n",
       "      <td>Front-wheel drive</td>\n",
       "      <td>1.0</td>\n",
       "      <td>15.331551</td>\n",
       "    </tr>\n",
       "    <tr>\n",
       "      <th>9703</th>\n",
       "      <td>270</td>\n",
       "      <td>3.0</td>\n",
       "      <td>140.0</td>\n",
       "      <td>2908.043477</td>\n",
       "      <td>14.7</td>\n",
       "      <td>2005</td>\n",
       "      <td>Asia</td>\n",
       "      <td>Diesel</td>\n",
       "      <td>All-wheel drive</td>\n",
       "      <td>-1.0</td>\n",
       "      <td>14.884467</td>\n",
       "    </tr>\n",
       "  </tbody>\n",
       "</table>\n",
       "<p>9704 rows × 11 columns</p>\n",
       "</div>"
      ],
      "text/plain": [
       "      engine_displacement  num_cylinders  horsepower  vehicle_weight  \\\n",
       "0                     170            3.0       159.0     3413.433759   \n",
       "1                     130            5.0        97.0     3149.664934   \n",
       "2                     170            NaN        78.0     3079.038997   \n",
       "3                     220            4.0         NaN     2542.392402   \n",
       "4                     210            1.0       140.0     3460.870990   \n",
       "...                   ...            ...         ...             ...   \n",
       "9699                  140            5.0       164.0     2981.107371   \n",
       "9700                  180            NaN       154.0     2439.525729   \n",
       "9701                  220            2.0       138.0     2583.471318   \n",
       "9702                  230            4.0       177.0     2905.527390   \n",
       "9703                  270            3.0       140.0     2908.043477   \n",
       "\n",
       "      acceleration  model_year  origin fuel_type         drivetrain  \\\n",
       "0             17.7        2003  Europe  Gasoline    All-wheel drive   \n",
       "1             17.8        2007     USA  Gasoline  Front-wheel drive   \n",
       "2             15.1        2018  Europe  Gasoline  Front-wheel drive   \n",
       "3             20.2        2009     USA    Diesel    All-wheel drive   \n",
       "4             14.4        2009  Europe  Gasoline    All-wheel drive   \n",
       "...            ...         ...     ...       ...                ...   \n",
       "9699          17.3        2013  Europe    Diesel  Front-wheel drive   \n",
       "9700          15.0        2004     USA  Gasoline    All-wheel drive   \n",
       "9701          15.1        2008     USA    Diesel    All-wheel drive   \n",
       "9702          19.4        2011     USA    Diesel  Front-wheel drive   \n",
       "9703          14.7        2005    Asia    Diesel    All-wheel drive   \n",
       "\n",
       "      num_doors  fuel_efficiency_mpg  \n",
       "0           0.0            13.231729  \n",
       "1           0.0            13.688217  \n",
       "2           0.0            14.246341  \n",
       "3           2.0            16.912736  \n",
       "4           2.0            12.488369  \n",
       "...         ...                  ...  \n",
       "9699        NaN            15.101802  \n",
       "9700        0.0            17.962326  \n",
       "9701       -1.0            17.186587  \n",
       "9702        1.0            15.331551  \n",
       "9703       -1.0            14.884467  \n",
       "\n",
       "[9704 rows x 11 columns]"
      ]
     },
     "execution_count": 6,
     "metadata": {},
     "output_type": "execute_result"
    }
   ],
   "source": [
    "df"
   ]
  },
  {
   "cell_type": "code",
   "execution_count": 11,
   "id": "14d5d6ea",
   "metadata": {},
   "outputs": [
    {
     "data": {
      "text/plain": [
       "np.True_"
      ]
     },
     "execution_count": 11,
     "metadata": {},
     "output_type": "execute_result"
    }
   ],
   "source": [
    "df.isnull().values.any()\n"
   ]
  },
  {
   "cell_type": "code",
   "execution_count": 17,
   "id": "ba0ae369",
   "metadata": {},
   "outputs": [
    {
     "data": {
      "text/plain": [
       "np.float64(25.96722204888372)"
      ]
     },
     "execution_count": 17,
     "metadata": {},
     "output_type": "execute_result"
    }
   ],
   "source": [
    "df['fuel_efficiency_mpg'].max()\n"
   ]
  },
  {
   "cell_type": "code",
   "execution_count": 19,
   "id": "eb12f650",
   "metadata": {},
   "outputs": [
    {
     "data": {
      "text/plain": [
       "np.float64(149.0)"
      ]
     },
     "execution_count": 19,
     "metadata": {},
     "output_type": "execute_result"
    }
   ],
   "source": [
    "df['horsepower'].median()\n"
   ]
  },
  {
   "cell_type": "code",
   "execution_count": 22,
   "id": "47b11b0b",
   "metadata": {},
   "outputs": [
    {
     "data": {
      "text/plain": [
       "np.float64(29124430.759692907)"
      ]
     },
     "execution_count": 22,
     "metadata": {},
     "output_type": "execute_result"
    }
   ],
   "source": [
    "df['vehicle_weight'].sum()\n"
   ]
  },
  {
   "cell_type": "code",
   "execution_count": 23,
   "id": "0f522474",
   "metadata": {},
   "outputs": [
    {
     "data": {
      "text/plain": [
       "np.float64(149.0)"
      ]
     },
     "execution_count": 23,
     "metadata": {},
     "output_type": "execute_result"
    }
   ],
   "source": [
    "df['horsepower'].median()\n"
   ]
  },
  {
   "cell_type": "code",
   "execution_count": 24,
   "id": "8aa21496",
   "metadata": {},
   "outputs": [],
   "source": [
    "mode_value = df['horsepower'].mode()[0]\n"
   ]
  },
  {
   "cell_type": "code",
   "execution_count": 25,
   "id": "302e6e5c",
   "metadata": {},
   "outputs": [],
   "source": [
    "df['horsepower'] = df['horsepower'].fillna(mode_value)\n"
   ]
  },
  {
   "cell_type": "code",
   "execution_count": 26,
   "id": "05ae4278",
   "metadata": {},
   "outputs": [
    {
     "data": {
      "text/plain": [
       "np.float64(152.0)"
      ]
     },
     "execution_count": 26,
     "metadata": {},
     "output_type": "execute_result"
    }
   ],
   "source": [
    "df['horsepower'].median()\n"
   ]
  },
  {
   "cell_type": "code",
   "execution_count": 27,
   "id": "0279b826",
   "metadata": {},
   "outputs": [],
   "source": [
    "asia_cars = df[df['origin'] == 'Asia']\n"
   ]
  },
  {
   "cell_type": "code",
   "execution_count": 28,
   "id": "c7df1941",
   "metadata": {},
   "outputs": [],
   "source": [
    "asia_cars = asia_cars[['vehicle_weight', 'model_year']]\n"
   ]
  },
  {
   "cell_type": "code",
   "execution_count": 29,
   "id": "687affab",
   "metadata": {},
   "outputs": [],
   "source": [
    "asia_cars = asia_cars.head(7)\n"
   ]
  },
  {
   "cell_type": "code",
   "execution_count": 30,
   "id": "8dce6b32",
   "metadata": {},
   "outputs": [],
   "source": [
    "X = asia_cars.to_numpy()\n"
   ]
  },
  {
   "cell_type": "code",
   "execution_count": 31,
   "id": "73aad484",
   "metadata": {},
   "outputs": [],
   "source": [
    "XTX = X.T @ X\n"
   ]
  },
  {
   "cell_type": "code",
   "execution_count": 34,
   "id": "a4acc1e3",
   "metadata": {},
   "outputs": [],
   "source": [
    "XTX_inv = np.linalg.inv(XTX)\n"
   ]
  },
  {
   "cell_type": "code",
   "execution_count": 35,
   "id": "2576d7f9",
   "metadata": {},
   "outputs": [],
   "source": [
    "y = np.array([1100, 1300, 800, 900, 1000, 1100, 1200])\n"
   ]
  },
  {
   "cell_type": "code",
   "execution_count": 36,
   "id": "b4640827",
   "metadata": {},
   "outputs": [],
   "source": [
    "w = XTX_inv @ X.T @ y\n"
   ]
  },
  {
   "cell_type": "code",
   "execution_count": 37,
   "id": "c4343831",
   "metadata": {},
   "outputs": [
    {
     "data": {
      "text/plain": [
       "np.float64(0.5187709081074016)"
      ]
     },
     "execution_count": 37,
     "metadata": {},
     "output_type": "execute_result"
    }
   ],
   "source": [
    "w.sum()\n"
   ]
  },
  {
   "cell_type": "code",
   "execution_count": 38,
   "id": "aac4a955",
   "metadata": {},
   "outputs": [
    {
     "data": {
      "text/plain": [
       "np.float64(23.759122836520497)"
      ]
     },
     "execution_count": 38,
     "metadata": {},
     "output_type": "execute_result"
    }
   ],
   "source": [
    "df[df['origin'] == 'Asia']['fuel_efficiency_mpg'].max()\n"
   ]
  },
  {
   "cell_type": "code",
   "execution_count": 39,
   "id": "2b2d46d7",
   "metadata": {},
   "outputs": [
    {
     "data": {
      "text/plain": [
       "np.int64(3)"
      ]
     },
     "execution_count": 39,
     "metadata": {},
     "output_type": "execute_result"
    }
   ],
   "source": [
    "(df.isnull().sum() > 0).sum()\n"
   ]
  },
  {
   "cell_type": "code",
   "execution_count": null,
   "id": "8c67a9b2",
   "metadata": {},
   "outputs": [],
   "source": []
  },
  {
   "cell_type": "code",
   "execution_count": 40,
   "id": "45e59fe3",
   "metadata": {},
   "outputs": [
    {
     "data": {
      "text/plain": [
       "2"
      ]
     },
     "execution_count": 40,
     "metadata": {},
     "output_type": "execute_result"
    }
   ],
   "source": [
    "df['fuel_type'].nunique()\n"
   ]
  },
  {
   "cell_type": "code",
   "execution_count": 41,
   "id": "d4942661",
   "metadata": {},
   "outputs": [
    {
     "data": {
      "text/plain": [
       "9704"
      ]
     },
     "execution_count": 41,
     "metadata": {},
     "output_type": "execute_result"
    }
   ],
   "source": [
    "len(df)\n"
   ]
  },
  {
   "cell_type": "code",
   "execution_count": null,
   "id": "006f0a99",
   "metadata": {},
   "outputs": [],
   "source": []
  }
 ],
 "metadata": {
  "kernelspec": {
   "display_name": "Python 3",
   "language": "python",
   "name": "python3"
  },
  "language_info": {
   "codemirror_mode": {
    "name": "ipython",
    "version": 3
   },
   "file_extension": ".py",
   "mimetype": "text/x-python",
   "name": "python",
   "nbconvert_exporter": "python",
   "pygments_lexer": "ipython3",
   "version": "3.12.1"
  }
 },
 "nbformat": 4,
 "nbformat_minor": 5
}
